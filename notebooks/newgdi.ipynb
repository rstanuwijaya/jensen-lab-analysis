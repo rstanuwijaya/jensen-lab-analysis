{
 "cells": [
  {
   "cell_type": "code",
   "execution_count": 153,
   "metadata": {},
   "outputs": [
    {
     "name": "stdout",
     "output_type": "stream",
     "text": [
      "The autoreload extension is already loaded. To reload it, use:\n",
      "  %reload_ext autoreload\n"
     ]
    }
   ],
   "source": [
    "%load_ext autoreload\n",
    "%autoreload 2\n",
    "\n",
    "import sys\n",
    "sys.path.append('../src/')\n",
    "\n",
    "import numpy as np\n",
    "import math\n",
    "import matplotlib.pyplot as plt\n",
    "import os\n",
    "import time\n",
    "\n",
    "from ghost.multisim import GhostSimulator\n",
    "\n",
    "plt.rcParams['text.usetex'] = True"
   ]
  },
  {
   "cell_type": "code",
   "execution_count": 154,
   "metadata": {},
   "outputs": [
    {
     "name": "stdout",
     "output_type": "stream",
     "text": [
      "RMSE: 55.883538739404955\n",
      "PSNR: 13.18512562177754\n"
     ]
    },
    {
     "data": {
      "image/png": "[encoded data removed]",
      "text/plain": [
       "<Figure size 432x288 with 1 Axes>"
      ]
     },
     "metadata": {
      "needs_background": "light"
     },
     "output_type": "display_data"
    },
    {
     "name": "stdout",
     "output_type": "stream",
     "text": [
      "49.0885009765625 49.0885009765625\n"
     ]
    }
   ],
   "source": [
    "path = '../common/RC_780.png'\n",
    "camera_res = (32, 32)\n",
    "slm_res = (128, 128)\n",
    "sim = GhostSimulator(path, slm_res, camera_res, 1)\n",
    "cnt = sim.run_simulation()\n",
    "rmse = sim.calc_rmse()\n",
    "print('RMSE:', rmse)\n",
    "psnr = sim.calc_psnr()\n",
    "print('PSNR:', psnr)\n",
    "\n",
    "plt.imshow(np.abs(sim.G2), cmap='gray')\n",
    "plt.show()\n",
    "\n",
    "print(np.average(sim.T), np.average(sim.G2))"
   ]
  },
  {
   "cell_type": "code",
   "execution_count": 140,
   "metadata": {},
   "outputs": [
    {
     "name": "stdout",
     "output_type": "stream",
     "text": [
      "49.0885009765625 0.19175195693969727\n"
     ]
    }
   ],
   "source": [
    "print(np.average(sim.T), np.average(sim.G2))"
   ]
  },
  {
   "cell_type": "code",
   "execution_count": 76,
   "metadata": {},
   "outputs": [
    {
     "data": {
      "image/png": "[encoded data removed]",
      "text/plain": [
       "<Figure size 432x288 with 1 Axes>"
      ]
     },
     "metadata": {
      "needs_background": "light"
     },
     "output_type": "display_data"
    },
    {
     "data": {
      "image/png": "[encoded data removed]",
      "text/plain": [
       "<Figure size 432x288 with 1 Axes>"
      ]
     },
     "metadata": {
      "needs_background": "light"
     },
     "output_type": "display_data"
    },
    {
     "data": {
      "image/png": "[encoded data removed]",
      "text/plain": [
       "<Figure size 432x288 with 1 Axes>"
      ]
     },
     "metadata": {
      "needs_background": "light"
     },
     "output_type": "display_data"
    }
   ],
   "source": [
    "sim = GhostSimulator(path, slm_res, camera_res, 64*64*0.1)\n",
    "h = sim.generate_hadamard(sim.shape_mac)\n",
    "\n",
    "plt.imshow(h)\n",
    "plt.show()\n",
    "\n",
    "hp = sim.generate_partial_filter(15)\n",
    "plt.imshow(hp)\n",
    "plt.show()\n",
    "\n",
    "s = sim.generate_filter(0)\n",
    "plt.imshow(s)\n",
    "plt.show()\n",
    "\n"
   ]
  },
  {
   "cell_type": "code",
   "execution_count": 77,
   "metadata": {},
   "outputs": [
    {
     "data": {
      "image/png": "[encoded data removed]",
      "text/plain": [
       "<Figure size 432x288 with 1 Axes>"
      ]
     },
     "metadata": {
      "needs_background": "light"
     },
     "output_type": "display_data"
    },
    {
     "data": {
      "image/png": "[encoded data removed]",
      "text/plain": [
       "<Figure size 432x288 with 1 Axes>"
      ]
     },
     "metadata": {
      "needs_background": "light"
     },
     "output_type": "display_data"
    }
   ],
   "source": [
    "import numpy as np\n",
    "from math import prod\n",
    "import cv2\n",
    "\n",
    "camera_res = (2, 2)\n",
    "slm_res = (4, 4)\n",
    "\n",
    "A = np.zeros((prod(slm_res), prod(camera_res)))\n",
    "\n",
    "for i in range(slm_res[0]):\n",
    "    for j in range(slm_res[1]):\n",
    "        slm = np.zeros(slm_res)\n",
    "        slm[i, j] = 1\n",
    "        cam = cv2.resize(slm, camera_res, interpolation=cv2.INTER_AREA)\n",
    "        cam = cam * prod(slm_res) / prod(camera_res)\n",
    "        A[i*slm_res[1] + j, :] = cam.flatten()\n",
    "\n",
    "plt.imshow(A)\n",
    "plt.show()\n",
    "\n",
    "plt.imshow(A[5].reshape(camera_res))\n",
    "plt.show()"
   ]
  },
  {
   "cell_type": "code",
   "execution_count": null,
   "metadata": {},
   "outputs": [],
   "source": []
  }
 ],
 "metadata": {
  "interpreter": {
   "hash": "ca8d0ba082cc9c20602d5617305148aac124a9f306efd0ffd09bb399077557e8"
  },
  "kernelspec": {
   "display_name": "Python 3.8.11 64-bit ('pf32': conda)",
   "language": "python",
   "name": "python3"
  },
  "language_info": {
   "codemirror_mode": {
    "name": "ipython",
    "version": 3
   },
   "file_extension": ".py",
   "mimetype": "text/x-python",
   "name": "python",
   "nbconvert_exporter": "python",
   "pygments_lexer": "ipython3",
   "version": "3.8.11"
  },
  "orig_nbformat": 4
 },
 "nbformat": 4,
 "nbformat_minor": 2
}
