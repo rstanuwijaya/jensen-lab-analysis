{
 "cells": [
  {
   "cell_type": "code",
   "execution_count": null,
   "metadata": {},
   "outputs": [],
   "source": [
    "%load_ext autoreload\n",
    "%autoreload 2\n",
    "\n",
    "import sys\n",
    "sys.path.append('../src/')\n",
    "\n",
    "from math import ceil, floor, pi, acos, prod\n",
    "import numpy as np\n",
    "import matplotlib.pyplot as plt\n",
    "import time\n",
    "import os\n",
    "\n",
    "from IPython.display import clear_output\n",
    "\n",
    "from ghost.multisim import GhostSimulator, GhostAnalyser, SLMPattern\n"
   ]
  },
  {
   "cell_type": "code",
   "execution_count": null,
   "metadata": {},
   "outputs": [],
   "source": [
    "sys.path.append(os.getenv(\"HEDS_PYTHON_MODULES\", \"\"))\n",
    "from holoeye import slmdisplaysdk\n",
    "\n",
    "ErrorCode = slmdisplaysdk.SLMDisplay.ErrorCode\n",
    "ShowFlags = slmdisplaysdk.SLMDisplay.ShowFlags\n",
    "\n",
    "slm = slmdisplaysdk.SLMDisplay()\n"
   ]
  },
  {
   "cell_type": "code",
   "execution_count": null,
   "metadata": {},
   "outputs": [],
   "source": [
    "from io import StringIO\n",
    "import matlab.engine\n",
    "\n",
    "eng = matlab.engine.start_matlab()\n",
    "eng.addpath(r'../src/ghost/', nargout=0)"
   ]
  },
  {
   "cell_type": "code",
   "execution_count": null,
   "metadata": {},
   "outputs": [],
   "source": [
    "# rewriting hong's algo in python\n",
    "\n",
    "size = 8.5 #nm\n",
    "mag = 45\n",
    "slm_res = 8 #um\n",
    "lens_size = ceil(mag * size / slm_res) \n",
    "xslm, yslm = 1080, 1920\n",
    "x_pattern_size, y_pattern_size = ceil(xslm / lens_size), ceil(yslm / lens_size)\n",
    "\n",
    "amp_pattern = np.zeros((x_pattern_size, y_pattern_size))\n",
    "ph_pattern = np.zeros((x_pattern_size, y_pattern_size))\n",
    "\n",
    "# amp_pattern[10:15, 10:15] = 1\n",
    "amp_pattern = 1\n",
    "amp_pattern = np.kron(np.ones((x_pattern_size, y_pattern_size)), np.array([[1, 0], [0, 1]]))\n",
    "amp_pattern = amp_pattern[:x_pattern_size, :y_pattern_size]\n",
    "\n",
    "plt.imshow(amp_pattern)\n",
    "plt.show()\n",
    "\n",
    "print(f'Aperture size in pixel: {lens_size}')\n",
    "\n",
    "# define pixel array\n",
    "pixel = lambda a, b, xg, yg: np.array([[a, b], [b, a]]).repeat(xg, axis=2).repeat(yg, axis=3).transpose(2,0,3,1).reshape(2*a.shape[0]*xg, 2*a.shape[1]*yg)\n",
    "\n",
    "plt.imshow(pixel(np.array([[1]]), np.array([[0]]), lens_size//2, lens_size//2), interpolation='nearest', cmap='gray')\n",
    "plt.show()\n",
    "\n",
    "print(\"pattern size: \", x_pattern_size, y_pattern_size)\n",
    "print(\"pattern size in pixel: \", lens_size*x_pattern_size, lens_size*y_pattern_size)\n",
    "\n",
    "x_redun = xslm - lens_size*x_pattern_size/2\n",
    "y_redun = yslm - lens_size*y_pattern_size/2\n",
    "\n",
    "# eslm = lambda p1, p2: 2 * sympy.cos((p1- p2)/2) * sympy.exp(sympy.i * (p1 - p2) / 2)\n",
    "\n",
    "p1 = lambda ph, amp: ph + np.arccos(amp)\n",
    "p2 = lambda ph, amp: ph - np.arccos(amp)\n",
    "ph_ref = pi/2\n",
    "\n",
    "p1_data = p1(ph_pattern + ph_ref, amp_pattern) / (2 * pi)\n",
    "p2_data = p2(ph_pattern + ph_ref, amp_pattern) / (2 * pi)\n",
    "\n",
    "amp_phase = pixel(p1_data, p2_data, lens_size//2, lens_size//2)\n",
    "amp_phase = amp_phase[:xslm, :yslm]\n",
    "amp_phase = np.resize(amp_phase, (xslm, yslm))\n",
    "\n",
    "print(\"amplitude phase shape: \", amp_phase.shape)\n",
    "plt.imshow(amp_phase, interpolation='nearest', cmap='gray')\n",
    "plt.show()\n",
    "\n",
    "k = 2 * pi / 0.632\n",
    "theta = 0.5 * pi / 180\n",
    "\n",
    "X, Y = np.mgrid[0:lens_size*x_pattern_size, 0:lens_size*y_pattern_size]\n",
    "phase_gradient = np.mod(8*k*X*np.sin(theta), 2*pi) / (2 * pi)\n",
    "\n",
    "PG = np.kron(amp_pattern > 0, np.ones((lens_size, lens_size))) * phase_gradient\n",
    "PG = PG[:xslm, :yslm]\n",
    "\n",
    "tot_phase = np.mod(amp_phase + PG, 1)\n",
    "\n",
    "print(\"grad phase shape: \", tot_phase.shape)\n",
    "plt.imshow(tot_phase, interpolation='nearest', cmap='gray')\n",
    "plt.show()\n",
    "\n",
    "slm.showPhasevalues(tot_phase)"
   ]
  },
  {
   "cell_type": "code",
   "execution_count": 26,
   "metadata": {},
   "outputs": [],
   "source": [
    "\n",
    "path = '../common/cat.png'\n",
    "slm_res = (32, 32)\n",
    "camera_res = (8, 8)\n",
    "mac_res = (4, 4)\n",
    "shift = (0, 0)\n",
    "spacing = (3, 3)\n",
    "n = prod(mac_res)\n",
    "sigma = 0\n",
    "\n",
    "# pattern constants\n",
    "k = 2 * pi / 0.632\n",
    "theta = 0.5 * pi / 180\n",
    "slm_shift = (480, 480)\n",
    "lens_size = 8\n",
    "slm_phys_res = (1080, 1920)\n",
    "\n",
    "# pf32 config\n",
    "frame_time=100\n",
    "acq_time=500\n",
    "\n",
    "# save path\n",
    "savepath = r'D:\\2022-2-16, Cat trial'\n",
    "\n",
    "sim = GhostSimulator(path, slm_res, camera_res, mac_res, n, spacing=spacing, shift=shift, sigma=sigma, method='zigzag')\n",
    "pg = SLMPattern(lens_size, slm_phys_res, k, theta)\n"
   ]
  },
  {
   "cell_type": "code",
   "execution_count": null,
   "metadata": {},
   "outputs": [],
   "source": [
    "slm_shift = (480, 480)\n",
    "lens_size = 8\n",
    "\n",
    "s = sim.generate_filter2(0)\n",
    "filter = s == 1\n",
    "\n",
    "pg = SLMPattern(lens_size, slm_phys_res, k, theta)\n",
    "\n",
    "amp_pattern = np.zeros((pg.xp_size, pg.yp_size))\n",
    "ph_pattern = np.zeros((pg.xp_size, pg.yp_size))\n",
    "\n",
    "amp_pattern[:slm_res[0], :slm_res[0]] = filter\n",
    "\n",
    "pattern = pg.generate_pattern_grad(amp_pattern, ph_pattern)\n",
    "pattern = np.roll(pattern, slm_shift, axis=(0, 1))\n",
    "\n",
    "error = slm.showPhasevalues(pattern)\n",
    "assert error == ErrorCode.NoError, slm.errorString(error)\n"
   ]
  },
  {
   "cell_type": "code",
   "execution_count": null,
   "metadata": {},
   "outputs": [],
   "source": [
    "# PIXEL CALLIBRATION\n",
    "\n",
    "for i in range(prod(slm_res)):\n",
    "# for i in range(2):\n",
    "    # clear_output(wait=True)\n",
    "    filter = sim.generate_single_pass_filter(i)\n",
    "\n",
    "    amp_pattern = np.zeros((pg.xp_size, pg.yp_size))\n",
    "    ph_pattern = np.zeros((pg.xp_size, pg.yp_size))\n",
    "    amp_pattern[:slm_res[0], :slm_res[0]] = filter\n",
    "\n",
    "    pattern = pg.generate_pattern_binary(amp_pattern, ph_pattern)\n",
    "    pattern = np.roll(pattern, slm_shift, axis=(0, 1))\n",
    "\n",
    "    print(f'cali: {i}')\n",
    "    # plt.imshow(pattern, interpolation='nearest', cmap='gray')\n",
    "    # plt.show()\n",
    "\n",
    "    # # SLM display pattern\n",
    "    error = slm.showPhasevalues(pattern)\n",
    "    assert error == ErrorCode.NoError, slm.errorString(error)\n",
    "\n",
    "    # pf32 capture image\n",
    "    filename = os.path.join(savepath, f'cali_sp=11,fn=5000,ft=100_{i}.csv')\n",
    "    out = StringIO()\n",
    "    eng.capture(frame_time, acq_time, filename, stdout=out)\n",
    "    # print(out.getvalue())\n",
    "    x = np.loadtxt(rf'D:\\2022-2-16, Cat trial\\cali_sp=11,fn=5000,ft=100_{i}.csv', delimiter=',')\n",
    "    plt.imshow(x, cmap='gray')\n",
    "    plt.colorbar()\n",
    "    plt.show()\n",
    "    time.sleep(.1)"
   ]
  },
  {
   "cell_type": "code",
   "execution_count": 29,
   "metadata": {},
   "outputs": [
    {
     "name": "stdout",
     "output_type": "stream",
     "text": [
      "n: 143p\n"
     ]
    },
    {
     "data": {
      "image/png": "[encoded data removed]",
      "text/plain": [
       "<Figure size 432x288 with 1 Axes>"
      ]
     },
     "metadata": {
      "needs_background": "light"
     },
     "output_type": "display_data"
    }
   ],
   "source": [
    "# IMAGE MEASUREMENT\n",
    "\n",
    "for i in range(prod(spacing) * prod(mac_res)):\n",
    "# for i in range(1):\n",
    "    for sign in (-1, 1):\n",
    "        clear_output(wait=True)\n",
    "        s = sim.generate_filter2(i)\n",
    "        filter = s == sign\n",
    "\n",
    "        amp_pattern = np.zeros((pg.xp_size, pg.yp_size))\n",
    "        ph_pattern = np.zeros((pg.xp_size, pg.yp_size))\n",
    "\n",
    "        amp_pattern[:slm_res[0], :slm_res[0]] = filter\n",
    "\n",
    "        pattern = pg.generate_pattern_grad(amp_pattern, ph_pattern)\n",
    "        pattern = np.roll(pattern, slm_shift, axis=(0, 1))\n",
    "\n",
    "        print(f'n: {i}{\"p\" if sign > 0 else \"m\"}')\n",
    "        plt.imshow(filter, interpolation='nearest', cmap='gray')\n",
    "        plt.show()\n",
    "\n",
    "        # # SLM display pattern\n",
    "        error = slm.showPhasevalues(pattern)\n",
    "        assert error == ErrorCode.NoError, slm.errorString(error)\n",
    "\n",
    "        # pf32 capture image\n",
    "        filename = os.path.join(savepath, f'{i}{\"p\" if sign > 0 else \"m\"}.csv')\n",
    "        out = StringIO()\n",
    "        frame_num = int((acq_time/1000)/(frame_time*1e-6))\n",
    "        eng.capture(frame_time, acq_time, filename, stdout=out)\n",
    "        # print(out.getvalue())\n",
    "        # x = np.loadtxt(filename, delimiter=',')\n",
    "        # plt.imshow(x, cmap='gray')\n",
    "        # plt.colorbar()\n",
    "        # plt.show()\n",
    "        # time.sleep(2)"
   ]
  },
  {
   "cell_type": "code",
   "execution_count": null,
   "metadata": {},
   "outputs": [],
   "source": [
    "x = np.loadtxt(r'D:\\2022-2-16, Cat trial\\trial3\\0p.csv', delimiter=',')\n",
    "plt.imshow(x, cmap='gray')\n",
    "plt.colorbar()\n",
    "plt.show()"
   ]
  },
  {
   "cell_type": "markdown",
   "metadata": {},
   "source": []
  },
  {
   "cell_type": "code",
   "execution_count": null,
   "metadata": {},
   "outputs": [],
   "source": []
  },
  {
   "cell_type": "code",
   "execution_count": null,
   "metadata": {},
   "outputs": [],
   "source": []
  }
 ],
 "metadata": {
  "interpreter": {
   "hash": "ca8d0ba082cc9c20602d5617305148aac124a9f306efd0ffd09bb399077557e8"
  },
  "kernelspec": {
   "display_name": "Python 3.8.11 64-bit ('pf32': conda)",
   "language": "python",
   "name": "python3"
  },
  "language_info": {
   "codemirror_mode": {
    "name": "ipython",
    "version": 3
   },
   "file_extension": ".py",
   "mimetype": "text/x-python",
   "name": "python",
   "nbconvert_exporter": "python",
   "pygments_lexer": "ipython3",
   "version": "3.8.10"
  },
  "orig_nbformat": 4
 },
 "nbformat": 4,
 "nbformat_minor": 2
}
